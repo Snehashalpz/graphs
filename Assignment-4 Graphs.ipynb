{
 "cells": [
  {
   "cell_type": "markdown",
   "id": "a58768f9",
   "metadata": {},
   "source": [
    "Breadth First Traversal for a Graph"
   ]
  },
  {
   "cell_type": "code",
   "execution_count": 1,
   "id": "d431210b",
   "metadata": {},
   "outputs": [
    {
     "name": "stdout",
     "output_type": "stream",
     "text": [
      "BFS traversal starting from node 2:\n",
      "2 0 3 1 "
     ]
    }
   ],
   "source": [
    "from collections import defaultdict, deque\n",
    "\n",
    "class Graph:\n",
    "    def __init__(self):\n",
    "        self.graph = defaultdict(list)\n",
    "\n",
    "    def add_edge(self, u, v):\n",
    "        self.graph[u].append(v)\n",
    "\n",
    "    def bfs(self, start):\n",
    "        visited = set()\n",
    "        queue = deque([start])\n",
    "        visited.add(start)\n",
    "\n",
    "        while queue:\n",
    "            node = queue.popleft()\n",
    "            print(node, end=\" \")\n",
    "\n",
    "            for neighbor in self.graph[node]:\n",
    "                if neighbor not in visited:\n",
    "                    visited.add(neighbor)\n",
    "                    queue.append(neighbor)\n",
    "\n",
    "g = Graph()\n",
    "g.add_edge(0, 1)\n",
    "g.add_edge(0, 2)\n",
    "g.add_edge(1, 2)\n",
    "g.add_edge(2, 0)\n",
    "g.add_edge(2, 3)\n",
    "g.add_edge(3, 3)\n",
    "\n",
    "start_node = 2  \n",
    "print(f\"BFS traversal starting from node {start_node}:\")\n",
    "g.bfs(start_node)\n"
   ]
  },
  {
   "cell_type": "markdown",
   "id": "1232fed3",
   "metadata": {},
   "source": [
    "Depth First Traversal for a Graph\n"
   ]
  },
  {
   "cell_type": "markdown",
   "id": "618b3bb2",
   "metadata": {},
   "source": [
    "Depth First Traversal for a Graph"
   ]
  },
  {
   "cell_type": "code",
   "execution_count": 1,
   "id": "e0863a47",
   "metadata": {},
   "outputs": [
    {
     "name": "stdout",
     "output_type": "stream",
     "text": [
      "Depth First Traversal starting from vertex 2:\n",
      "2 0 1 3 "
     ]
    }
   ],
   "source": [
    "from collections import defaultdict\n",
    "\n",
    "class Graph:\n",
    "    def __init__(self):\n",
    "        self.graph = defaultdict(list)\n",
    "\n",
    "    def add_edge(self, u, v):\n",
    "        self.graph[u].append(v)\n",
    "\n",
    "    def dfs_util(self, v, visited):\n",
    "        visited[v] = True\n",
    "        print(v, end=' ')\n",
    "\n",
    "        for i in self.graph[v]:\n",
    "            if not visited[i]:\n",
    "                self.dfs_util(i, visited)\n",
    "\n",
    "    def depth_first_traversal(self, start):\n",
    "        visited = [False] * (len(self.graph))\n",
    "\n",
    "        self.dfs_util(start, visited)\n",
    "g = Graph()\n",
    "g.add_edge(0, 1)\n",
    "g.add_edge(0, 2)\n",
    "g.add_edge(1, 2)\n",
    "g.add_edge(2, 0)\n",
    "g.add_edge(2, 3)\n",
    "g.add_edge(3, 3)\n",
    "\n",
    "print(\"Depth First Traversal starting from vertex 2:\")\n",
    "g.depth_first_traversal(2)\n"
   ]
  },
  {
   "cell_type": "markdown",
   "id": "d517ee1b",
   "metadata": {},
   "source": [
    "Count the number of nodes at given level in a tree using BFS"
   ]
  },
  {
   "cell_type": "code",
   "execution_count": 3,
   "id": "75ab24ad",
   "metadata": {},
   "outputs": [
    {
     "name": "stdout",
     "output_type": "stream",
     "text": [
      "Number of nodes at level 2: 4\n"
     ]
    }
   ],
   "source": [
    "from collections import deque\n",
    "\n",
    "class TreeNode:\n",
    "    def __init__(self, value):\n",
    "        self.val = value\n",
    "        self.left = None\n",
    "        self.right = None\n",
    "\n",
    "def count_nodes_at_level(root, target_level):\n",
    "    if not root:\n",
    "        return 0\n",
    "\n",
    "    queue = deque([(root, 0)])\n",
    "    count = 0\n",
    "\n",
    "    while queue:\n",
    "        node, level = queue.popleft()\n",
    "\n",
    "        if level == target_level:\n",
    "            count += 1\n",
    "\n",
    "        if node.left:\n",
    "            queue.append((node.left, level + 1))\n",
    "\n",
    "        if node.right:\n",
    "            queue.append((node.right, level + 1))\n",
    "\n",
    "    return count\n",
    "\n",
    "root = TreeNode(1)\n",
    "root.left = TreeNode(2)\n",
    "root.right = TreeNode(3)\n",
    "root.left.left = TreeNode(4)\n",
    "root.left.right = TreeNode(5)\n",
    "root.right.left = TreeNode(6)\n",
    "root.right.right = TreeNode(7)\n",
    "\n",
    "target_level = 2\n",
    "count = count_nodes_at_level(root, target_level)\n",
    "print(f\"Number of nodes at level {target_level}: {count}\")\n"
   ]
  },
  {
   "cell_type": "markdown",
   "id": "7573b54e",
   "metadata": {},
   "source": [
    "Count number of trees in a forest"
   ]
  },
  {
   "cell_type": "code",
   "execution_count": 4,
   "id": "129dd3de",
   "metadata": {},
   "outputs": [
    {
     "name": "stdout",
     "output_type": "stream",
     "text": [
      "The number of trees in the forest is: 2\n"
     ]
    }
   ],
   "source": [
    "from collections import defaultdict\n",
    "\n",
    "class Graph:\n",
    "    def __init__(self):\n",
    "        self.graph = defaultdict(list)\n",
    "\n",
    "    def add_edge(self, u, v):\n",
    "        self.graph[u].append(v)\n",
    "        self.graph[v].append(u)  # For undirected graph\n",
    "\n",
    "    def dfs_util(self, v, visited):\n",
    "        visited[v] = True\n",
    "\n",
    "        for i in self.graph[v]:\n",
    "            if not visited[i]:\n",
    "                self.dfs_util(i, visited)\n",
    "\n",
    "    def count_trees(self):\n",
    "        visited = {node: False for node in self.graph}\n",
    "        count = 0\n",
    "\n",
    "        for node in self.graph:\n",
    "            if not visited[node]:\n",
    "                self.dfs_util(node, visited)\n",
    "                count += 1\n",
    "\n",
    "        return count\n",
    "\n",
    "\n",
    "forest = Graph()\n",
    "forest.add_edge(0, 1)\n",
    "forest.add_edge(0, 2)\n",
    "forest.add_edge(3, 4)\n",
    "\n",
    "trees_count = forest.count_trees()\n",
    "print(f\"The number of trees in the forest is: {trees_count}\")\n"
   ]
  },
  {
   "cell_type": "markdown",
   "id": "5c071b39",
   "metadata": {},
   "source": [
    "Detect Cycle in a Directed Graph\n"
   ]
  },
  {
   "cell_type": "code",
   "execution_count": 5,
   "id": "8f497bee",
   "metadata": {},
   "outputs": [
    {
     "name": "stdout",
     "output_type": "stream",
     "text": [
      "The graph contains a cycle\n"
     ]
    }
   ],
   "source": [
    "from collections import defaultdict\n",
    "\n",
    "class Graph:\n",
    "    def __init__(self):\n",
    "        self.graph = defaultdict(list)\n",
    "\n",
    "    def add_edge(self, u, v):\n",
    "        self.graph[u].append(v)\n",
    "\n",
    "    def is_cyclic_util(self, v, visited, recursion_stack):\n",
    "        visited[v] = True\n",
    "        recursion_stack[v] = True\n",
    "\n",
    "        for neighbor in self.graph[v]:\n",
    "            if not visited[neighbor]:\n",
    "                if self.is_cyclic_util(neighbor, visited, recursion_stack):\n",
    "                    return True\n",
    "            elif recursion_stack[neighbor]:\n",
    "                return True\n",
    "\n",
    "        recursion_stack[v] = False\n",
    "        return False\n",
    "\n",
    "    def is_cyclic(self):\n",
    "        num_nodes = len(self.graph)\n",
    "        visited = [False] * num_nodes\n",
    "        recursion_stack = [False] * num_nodes\n",
    "\n",
    "        for node in range(num_nodes):\n",
    "            if not visited[node]:\n",
    "                if self.is_cyclic_util(node, visited, recursion_stack):\n",
    "                    return True\n",
    "\n",
    "        return False\n",
    "\n",
    "\n",
    "g = Graph()\n",
    "g.add_edge(0, 1)\n",
    "g.add_edge(0, 2)\n",
    "g.add_edge(1, 2)\n",
    "g.add_edge(2, 0)\n",
    "g.add_edge(2, 3)\n",
    "g.add_edge(3, 3)\n",
    "\n",
    "if g.is_cyclic():\n",
    "    print(\"The graph contains a cycle\")\n",
    "else:\n",
    "    print(\"The graph does not contain a cycle\")\n"
   ]
  },
  {
   "cell_type": "code",
   "execution_count": null,
   "id": "0d57f0f8",
   "metadata": {},
   "outputs": [],
   "source": []
  }
 ],
 "metadata": {
  "kernelspec": {
   "display_name": "Python 3 (ipykernel)",
   "language": "python",
   "name": "python3"
  },
  "language_info": {
   "codemirror_mode": {
    "name": "ipython",
    "version": 3
   },
   "file_extension": ".py",
   "mimetype": "text/x-python",
   "name": "python",
   "nbconvert_exporter": "python",
   "pygments_lexer": "ipython3",
   "version": "3.10.9"
  }
 },
 "nbformat": 4,
 "nbformat_minor": 5
}
